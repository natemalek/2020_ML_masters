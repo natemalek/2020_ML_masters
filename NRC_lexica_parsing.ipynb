{
 "cells": [
  {
   "cell_type": "code",
   "execution_count": 12,
   "metadata": {},
   "outputs": [
    {
     "name": "stdout",
     "output_type": "stream",
     "text": [
      "24206\n",
      "Total time: 0.65814208984375\n"
     ]
    }
   ],
   "source": [
    "import time\n",
    "\n",
    "start_time = time.time()\n",
    "infile = open(\"./NRC-Emotion-Lexicon-Senselevel-v0.92.txt\", \"r\")\n",
    "\n",
    "word_dict = dict() # dict of dicts; {word1: {emotion1:score}, word2: {emotion1:score}}\n",
    "\n",
    "for line in infile:\n",
    "    split_line = line.split(\"\\t\")\n",
    "    if split_line[0] == '\\n':\n",
    "        continue\n",
    "    word = split_line[0]\n",
    "    emotion = split_line[1]\n",
    "    score = split_line[2]\n",
    "    if word in word_dict:\n",
    "        word_dict[word][emotion] = score\n",
    "    else:\n",
    "        word_dict[word] = {emotion:score}\n",
    "\n",
    "end_time = time.time()\n",
    "print(len(word_dict))\n",
    "\n",
    "print(f\"Total time: {end_time-start_time}\")"
   ]
  },
  {
   "cell_type": "code",
   "execution_count": 13,
   "metadata": {},
   "outputs": [],
   "source": [
    "infile.close()"
   ]
  }
 ],
 "metadata": {
  "kernelspec": {
   "display_name": "Python 3",
   "language": "python",
   "name": "python3"
  },
  "language_info": {
   "codemirror_mode": {
    "name": "ipython",
    "version": 3
   },
   "file_extension": ".py",
   "mimetype": "text/x-python",
   "name": "python",
   "nbconvert_exporter": "python",
   "pygments_lexer": "ipython3",
   "version": "3.7.3"
  }
 },
 "nbformat": 4,
 "nbformat_minor": 2
}
